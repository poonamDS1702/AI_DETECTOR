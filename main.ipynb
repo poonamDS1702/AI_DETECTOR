{
 "cells": [
  {
   "cell_type": "code",
   "execution_count": 7,
   "metadata": {},
   "outputs": [],
   "source": [
    "import psutil\n",
    "\n",
    "def log_memory_usage():\n",
    "    memory = psutil.virtual_memory()\n",
    "    print(f\"Used: {memory.used / 1e9:.2f} GB, Available: {memory.available / 1e9:.2f} GB\")"
   ]
  },
  {
   "cell_type": "code",
   "execution_count": 8,
   "metadata": {},
   "outputs": [
    {
     "name": "stdout",
     "output_type": "stream",
     "text": [
      "Requirement already satisfied: langdetect in c:\\users\\this pc\\anaconda3\\envs\\aidetector\\lib\\site-packages (1.0.9)\n",
      "Requirement already satisfied: six in c:\\users\\this pc\\anaconda3\\envs\\aidetector\\lib\\site-packages (from langdetect) (1.16.0)\n",
      "Requirement already satisfied: googletrans in c:\\users\\this pc\\anaconda3\\envs\\aidetector\\lib\\site-packages (4.0.0rc1)\n",
      "Requirement already satisfied: httpx==0.13.3 in c:\\users\\this pc\\anaconda3\\envs\\aidetector\\lib\\site-packages (from googletrans) (0.13.3)\n",
      "Requirement already satisfied: certifi in c:\\users\\this pc\\anaconda3\\envs\\aidetector\\lib\\site-packages (from httpx==0.13.3->googletrans) (2024.12.14)\n",
      "Requirement already satisfied: hstspreload in c:\\users\\this pc\\anaconda3\\envs\\aidetector\\lib\\site-packages (from httpx==0.13.3->googletrans) (2025.1.1)\n",
      "Requirement already satisfied: sniffio in c:\\users\\this pc\\anaconda3\\envs\\aidetector\\lib\\site-packages (from httpx==0.13.3->googletrans) (1.3.1)\n",
      "Requirement already satisfied: chardet==3.* in c:\\users\\this pc\\anaconda3\\envs\\aidetector\\lib\\site-packages (from httpx==0.13.3->googletrans) (3.0.4)\n",
      "Requirement already satisfied: idna==2.* in c:\\users\\this pc\\anaconda3\\envs\\aidetector\\lib\\site-packages (from httpx==0.13.3->googletrans) (2.10)\n",
      "Requirement already satisfied: rfc3986<2,>=1.3 in c:\\users\\this pc\\anaconda3\\envs\\aidetector\\lib\\site-packages (from httpx==0.13.3->googletrans) (1.5.0)\n",
      "Requirement already satisfied: httpcore==0.9.* in c:\\users\\this pc\\anaconda3\\envs\\aidetector\\lib\\site-packages (from httpx==0.13.3->googletrans) (0.9.1)\n",
      "Requirement already satisfied: h11<0.10,>=0.8 in c:\\users\\this pc\\anaconda3\\envs\\aidetector\\lib\\site-packages (from httpcore==0.9.*->httpx==0.13.3->googletrans) (0.9.0)\n",
      "Requirement already satisfied: h2==3.* in c:\\users\\this pc\\anaconda3\\envs\\aidetector\\lib\\site-packages (from httpcore==0.9.*->httpx==0.13.3->googletrans) (3.2.0)\n",
      "Requirement already satisfied: hyperframe<6,>=5.2.0 in c:\\users\\this pc\\anaconda3\\envs\\aidetector\\lib\\site-packages (from h2==3.*->httpcore==0.9.*->httpx==0.13.3->googletrans) (5.2.0)\n",
      "Requirement already satisfied: hpack<4,>=3.0 in c:\\users\\this pc\\anaconda3\\envs\\aidetector\\lib\\site-packages (from h2==3.*->httpcore==0.9.*->httpx==0.13.3->googletrans) (3.0.0)\n"
     ]
    }
   ],
   "source": [
    "!pip install langdetect\n",
    "!pip install googletrans"
   ]
  },
  {
   "cell_type": "code",
   "execution_count": 9,
   "metadata": {},
   "outputs": [
    {
     "name": "stdout",
     "output_type": "stream",
     "text": [
      "Requirement already satisfied: transformers in c:\\users\\this pc\\anaconda3\\envs\\aidetector\\lib\\site-packages (4.46.3)Note: you may need to restart the kernel to use updated packages.\n",
      "\n",
      "Requirement already satisfied: filelock in c:\\users\\this pc\\anaconda3\\envs\\aidetector\\lib\\site-packages (from transformers) (3.16.1)\n",
      "Requirement already satisfied: huggingface-hub<1.0,>=0.23.2 in c:\\users\\this pc\\anaconda3\\envs\\aidetector\\lib\\site-packages (from transformers) (0.27.1)\n",
      "Requirement already satisfied: numpy>=1.17 in c:\\users\\this pc\\anaconda3\\envs\\aidetector\\lib\\site-packages (from transformers) (1.24.4)\n",
      "Requirement already satisfied: packaging>=20.0 in c:\\users\\this pc\\anaconda3\\envs\\aidetector\\lib\\site-packages (from transformers) (24.1)\n",
      "Requirement already satisfied: pyyaml>=5.1 in c:\\users\\this pc\\anaconda3\\envs\\aidetector\\lib\\site-packages (from transformers) (6.0.2)\n",
      "Requirement already satisfied: regex!=2019.12.17 in c:\\users\\this pc\\anaconda3\\envs\\aidetector\\lib\\site-packages (from transformers) (2024.11.6)\n",
      "Requirement already satisfied: requests in c:\\users\\this pc\\anaconda3\\envs\\aidetector\\lib\\site-packages (from transformers) (2.32.3)\n",
      "Requirement already satisfied: tokenizers<0.21,>=0.20 in c:\\users\\this pc\\anaconda3\\envs\\aidetector\\lib\\site-packages (from transformers) (0.20.3)\n",
      "Requirement already satisfied: safetensors>=0.4.1 in c:\\users\\this pc\\anaconda3\\envs\\aidetector\\lib\\site-packages (from transformers) (0.5.0)\n",
      "Requirement already satisfied: tqdm>=4.27 in c:\\users\\this pc\\anaconda3\\envs\\aidetector\\lib\\site-packages (from transformers) (4.67.1)\n",
      "Requirement already satisfied: fsspec>=2023.5.0 in c:\\users\\this pc\\anaconda3\\envs\\aidetector\\lib\\site-packages (from huggingface-hub<1.0,>=0.23.2->transformers) (2024.12.0)\n",
      "Requirement already satisfied: typing-extensions>=3.7.4.3 in c:\\users\\this pc\\anaconda3\\envs\\aidetector\\lib\\site-packages (from huggingface-hub<1.0,>=0.23.2->transformers) (4.11.0)\n",
      "Requirement already satisfied: colorama in c:\\users\\this pc\\anaconda3\\envs\\aidetector\\lib\\site-packages (from tqdm>=4.27->transformers) (0.4.6)\n",
      "Requirement already satisfied: charset-normalizer<4,>=2 in c:\\users\\this pc\\anaconda3\\envs\\aidetector\\lib\\site-packages (from requests->transformers) (3.4.1)\n",
      "Requirement already satisfied: idna<4,>=2.5 in c:\\users\\this pc\\anaconda3\\envs\\aidetector\\lib\\site-packages (from requests->transformers) (2.10)\n",
      "Requirement already satisfied: urllib3<3,>=1.21.1 in c:\\users\\this pc\\anaconda3\\envs\\aidetector\\lib\\site-packages (from requests->transformers) (2.2.3)\n",
      "Requirement already satisfied: certifi>=2017.4.17 in c:\\users\\this pc\\anaconda3\\envs\\aidetector\\lib\\site-packages (from requests->transformers) (2024.12.14)\n"
     ]
    }
   ],
   "source": [
    "pip install transformers\n"
   ]
  },
  {
   "cell_type": "code",
   "execution_count": 10,
   "metadata": {},
   "outputs": [
    {
     "name": "stdout",
     "output_type": "stream",
     "text": [
      "Note: you may need to restart the kernel to use updated packages.Requirement already satisfied: torch in c:\\users\\this pc\\anaconda3\\envs\\aidetector\\lib\\site-packages (2.4.1)\n",
      "Requirement already satisfied: torchvision in c:\\users\\this pc\\anaconda3\\envs\\aidetector\\lib\\site-packages (0.19.1)\n",
      "Requirement already satisfied: torchaudio in c:\\users\\this pc\\anaconda3\\envs\\aidetector\\lib\\site-packages (2.4.1)\n",
      "Requirement already satisfied: filelock in c:\\users\\this pc\\anaconda3\\envs\\aidetector\\lib\\site-packages (from torch) (3.16.1)\n",
      "Requirement already satisfied: typing-extensions>=4.8.0 in c:\\users\\this pc\\anaconda3\\envs\\aidetector\\lib\\site-packages (from torch) (4.11.0)\n",
      "Requirement already satisfied: sympy in c:\\users\\this pc\\anaconda3\\envs\\aidetector\\lib\\site-packages (from torch) (1.13.3)\n",
      "Requirement already satisfied: networkx in c:\\users\\this pc\\anaconda3\\envs\\aidetector\\lib\\site-packages (from torch) (3.1)\n",
      "Requirement already satisfied: jinja2 in c:\\users\\this pc\\anaconda3\\envs\\aidetector\\lib\\site-packages (from torch) (3.1.5)\n",
      "Requirement already satisfied: fsspec in c:\\users\\this pc\\anaconda3\\envs\\aidetector\\lib\\site-packages (from torch) (2024.12.0)\n",
      "Requirement already satisfied: numpy in c:\\users\\this pc\\anaconda3\\envs\\aidetector\\lib\\site-packages (from torchvision) (1.24.4)\n",
      "Requirement already satisfied: pillow!=8.3.*,>=5.3.0 in c:\\users\\this pc\\anaconda3\\envs\\aidetector\\lib\\site-packages (from torchvision) (10.4.0)\n",
      "Requirement already satisfied: MarkupSafe>=2.0 in c:\\users\\this pc\\anaconda3\\envs\\aidetector\\lib\\site-packages (from jinja2->torch) (2.1.5)\n",
      "Requirement already satisfied: mpmath<1.4,>=1.1.0 in c:\\users\\this pc\\anaconda3\\envs\\aidetector\\lib\\site-packages (from sympy->torch) (1.3.0)\n",
      "\n"
     ]
    }
   ],
   "source": [
    "pip install torch torchvision torchaudio"
   ]
  },
  {
   "cell_type": "code",
   "execution_count": 11,
   "metadata": {},
   "outputs": [
    {
     "name": "stdout",
     "output_type": "stream",
     "text": [
      "Requirement already satisfied: protobuf==3.20.* in c:\\users\\this pc\\anaconda3\\envs\\aidetector\\lib\\site-packages (3.20.3)\n",
      "Note: you may need to restart the kernel to use updated packages.\n"
     ]
    }
   ],
   "source": [
    "pip install protobuf==3.20.*"
   ]
  },
  {
   "cell_type": "code",
   "execution_count": 12,
   "metadata": {},
   "outputs": [
    {
     "name": "stdout",
     "output_type": "stream",
     "text": [
      "Requirement already satisfied: tiktoken in c:\\users\\this pc\\anaconda3\\envs\\aidetector\\lib\\site-packages (0.7.0)Note: you may need to restart the kernel to use updated packages.\n",
      "\n",
      "Requirement already satisfied: regex>=2022.1.18 in c:\\users\\this pc\\anaconda3\\envs\\aidetector\\lib\\site-packages (from tiktoken) (2024.11.6)\n",
      "Requirement already satisfied: requests>=2.26.0 in c:\\users\\this pc\\anaconda3\\envs\\aidetector\\lib\\site-packages (from tiktoken) (2.32.3)\n",
      "Requirement already satisfied: charset-normalizer<4,>=2 in c:\\users\\this pc\\anaconda3\\envs\\aidetector\\lib\\site-packages (from requests>=2.26.0->tiktoken) (3.4.1)\n",
      "Requirement already satisfied: idna<4,>=2.5 in c:\\users\\this pc\\anaconda3\\envs\\aidetector\\lib\\site-packages (from requests>=2.26.0->tiktoken) (2.10)\n",
      "Requirement already satisfied: urllib3<3,>=1.21.1 in c:\\users\\this pc\\anaconda3\\envs\\aidetector\\lib\\site-packages (from requests>=2.26.0->tiktoken) (2.2.3)\n",
      "Requirement already satisfied: certifi>=2017.4.17 in c:\\users\\this pc\\anaconda3\\envs\\aidetector\\lib\\site-packages (from requests>=2.26.0->tiktoken) (2024.12.14)\n"
     ]
    }
   ],
   "source": [
    "pip install tiktoken"
   ]
  },
  {
   "cell_type": "code",
   "execution_count": 13,
   "metadata": {},
   "outputs": [
    {
     "name": "stdout",
     "output_type": "stream",
     "text": [
      "Requirement already satisfied: sentencepiece in c:\\users\\this pc\\anaconda3\\envs\\aidetector\\lib\\site-packages (0.2.0)Note: you may need to restart the kernel to use updated packages.\n",
      "\n"
     ]
    }
   ],
   "source": [
    "pip install sentencepiece\n"
   ]
  },
  {
   "cell_type": "code",
   "execution_count": 14,
   "metadata": {},
   "outputs": [],
   "source": [
    "import sys\n",
    "import os\n",
    "\n",
    "sys.path.append(os.path.abspath(\".\"))\n"
   ]
  },
  {
   "cell_type": "code",
   "execution_count": null,
   "metadata": {},
   "outputs": [],
   "source": [
    "!pip install transformers langdetect googletrans==4.0.0-rc1 wikipedia-api langchain llama-index\n",
    "\n",
    "import asyncio\n",
    "from langdetect import detect\n",
    "from googletrans import Translator\n",
    "from transformers import pipeline\n",
    "import wikipediaapi\n",
    "\n",
    "# Initialize components\n",
    "translator = Translator()\n",
    "qa_pipeline = pipeline(\"question-answering\", model=\"deepset/xlm-roberta-base-squad2\")\n",
    "wiki_api = wikipediaapi.Wikipedia('en')\n",
    "\n",
    "# Detect language\n",
    "def detect_language(text):\n",
    "    return detect(text)\n",
    "\n",
    "# Translate text asynchronously\n",
    "async def translate_text_async(text, target_lang=\"en\"):\n",
    "    try:\n",
    "        translation = await translator.translate(text, dest=target_lang)\n",
    "        return translation.text\n",
    "    except Exception as e:\n",
    "        print(f\"Translation error: {e}\")\n",
    "        return text\n",
    "\n",
    "# Fetch relevant context using Wikipedia\n",
    "def fetch_context(query):\n",
    "    page = wiki_api.page(query)\n",
    "    if page.exists():\n",
    "        return page.summary[:1000]  # Use the first 1000 characters as context\n",
    "    return \"No relevant information found.\"\n",
    "\n",
    "# Main QA chain\n",
    "async def process_query_async(query):\n",
    "    lang = detect_language(query)\n",
    "    print(f\"Detected language: {lang}\")\n",
    "\n",
    "    # Translate query if not in English\n",
    "    if lang != \"en\":\n",
    "        query = await translate_text_async(query, target_lang=\"en\")\n",
    "        print(f\"Translated query: {query}\")\n",
    "\n",
    "    # Retrieve dynamic context\n",
    "    context = fetch_context(query)\n",
    "    print(f\"Retrieved context: {context}\")\n",
    "\n",
    "    # Process query with QA model\n",
    "    response = qa_pipeline({'context': context, 'question': query})\n",
    "    answer = response.get('answer', \"No answer found.\")\n",
    "\n",
    "    # Translate answer back to original language if needed\n",
    "    if lang != \"en\":\n",
    "        answer = await translate_text_async(answer, target_lang=lang)\n",
    "    return answer\n",
    "\n",
    "# Test the pipeline\n",
    "async def main():\n",
    "    user_query = \"Qu'est-ce que l'intelligence artificielle?\"  # French question\n",
    "    response = await process_query_async(user_query)\n",
    "    print(f\"Final Answer: {response}\")\n",
    "\n",
    "await main()\n"
   ]
  },
  {
   "cell_type": "code",
   "execution_count": 3,
   "metadata": {},
   "outputs": [
    {
     "name": "stdout",
     "output_type": "stream",
     "text": [
      "<module 'src.helper' from 'c:\\\\Users\\\\This PC\\\\AI_DETECTOR\\\\src\\\\helper.py'>\n"
     ]
    }
   ],
   "source": [
    "import src.helper\n",
    "print(src.helper)\n"
   ]
  },
  {
   "cell_type": "code",
   "execution_count": null,
   "metadata": {},
   "outputs": [],
   "source": []
  }
 ],
 "metadata": {
  "kernelspec": {
   "display_name": "aidetector",
   "language": "python",
   "name": "python3"
  },
  "language_info": {
   "codemirror_mode": {
    "name": "ipython",
    "version": 3
   },
   "file_extension": ".py",
   "mimetype": "text/x-python",
   "name": "python",
   "nbconvert_exporter": "python",
   "pygments_lexer": "ipython3",
   "version": "3.8.20"
  }
 },
 "nbformat": 4,
 "nbformat_minor": 2
}
