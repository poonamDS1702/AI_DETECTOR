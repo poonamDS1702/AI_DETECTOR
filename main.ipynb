{
 "cells": [
  {
   "cell_type": "code",
   "execution_count": 14,
   "metadata": {},
   "outputs": [
    {
     "name": "stdout",
     "output_type": "stream",
     "text": [
      "Requirement already satisfied: langdetect in c:\\users\\this pc\\anaconda3\\envs\\aidetector\\lib\\site-packages (1.0.9)\n",
      "Requirement already satisfied: six in c:\\users\\this pc\\anaconda3\\envs\\aidetector\\lib\\site-packages (from langdetect) (1.16.0)\n",
      "Requirement already satisfied: googletrans==4.0.0-rc1 in c:\\users\\this pc\\anaconda3\\envs\\aidetector\\lib\\site-packages (4.0.0rc1)\n",
      "Requirement already satisfied: httpx==0.13.3 in c:\\users\\this pc\\anaconda3\\envs\\aidetector\\lib\\site-packages (from googletrans==4.0.0-rc1) (0.13.3)\n",
      "Requirement already satisfied: certifi in c:\\users\\this pc\\anaconda3\\envs\\aidetector\\lib\\site-packages (from httpx==0.13.3->googletrans==4.0.0-rc1) (2024.12.14)\n",
      "Requirement already satisfied: hstspreload in c:\\users\\this pc\\anaconda3\\envs\\aidetector\\lib\\site-packages (from httpx==0.13.3->googletrans==4.0.0-rc1) (2025.1.1)\n",
      "Requirement already satisfied: sniffio in c:\\users\\this pc\\anaconda3\\envs\\aidetector\\lib\\site-packages (from httpx==0.13.3->googletrans==4.0.0-rc1) (1.3.1)\n",
      "Requirement already satisfied: chardet==3.* in c:\\users\\this pc\\anaconda3\\envs\\aidetector\\lib\\site-packages (from httpx==0.13.3->googletrans==4.0.0-rc1) (3.0.4)\n",
      "Requirement already satisfied: idna==2.* in c:\\users\\this pc\\anaconda3\\envs\\aidetector\\lib\\site-packages (from httpx==0.13.3->googletrans==4.0.0-rc1) (2.10)\n",
      "Requirement already satisfied: rfc3986<2,>=1.3 in c:\\users\\this pc\\anaconda3\\envs\\aidetector\\lib\\site-packages (from httpx==0.13.3->googletrans==4.0.0-rc1) (1.5.0)\n",
      "Requirement already satisfied: httpcore==0.9.* in c:\\users\\this pc\\anaconda3\\envs\\aidetector\\lib\\site-packages (from httpx==0.13.3->googletrans==4.0.0-rc1) (0.9.1)\n",
      "Requirement already satisfied: h11<0.10,>=0.8 in c:\\users\\this pc\\anaconda3\\envs\\aidetector\\lib\\site-packages (from httpcore==0.9.*->httpx==0.13.3->googletrans==4.0.0-rc1) (0.9.0)\n",
      "Requirement already satisfied: h2==3.* in c:\\users\\this pc\\anaconda3\\envs\\aidetector\\lib\\site-packages (from httpcore==0.9.*->httpx==0.13.3->googletrans==4.0.0-rc1) (3.2.0)\n",
      "Requirement already satisfied: hyperframe<6,>=5.2.0 in c:\\users\\this pc\\anaconda3\\envs\\aidetector\\lib\\site-packages (from h2==3.*->httpcore==0.9.*->httpx==0.13.3->googletrans==4.0.0-rc1) (5.2.0)\n",
      "Requirement already satisfied: hpack<4,>=3.0 in c:\\users\\this pc\\anaconda3\\envs\\aidetector\\lib\\site-packages (from h2==3.*->httpcore==0.9.*->httpx==0.13.3->googletrans==4.0.0-rc1) (3.0.0)\n"
     ]
    }
   ],
   "source": [
    "!pip install langdetect\n",
    "!pip install googletrans==4.0.0-rc1"
   ]
  },
  {
   "cell_type": "code",
   "execution_count": 65,
   "metadata": {},
   "outputs": [
    {
     "name": "stdout",
     "output_type": "stream",
     "text": [
      "I am watching TV\n"
     ]
    }
   ],
   "source": [
    "from langdetect import detect\n",
    "from googletrans import Translator\n",
    "  \n",
    "def detect_and_translate(text, target_lang=\"en\"):\n",
    "    lang = detect(text)\n",
    "    if lang != target_lang:\n",
    "        translator = Translator()  # Create an instance of Translator\n",
    "        translation = translator.translate(text, dest=target_lang)\n",
    "        return translation.text\n",
    "    else:\n",
    "        return text  # Return the text as it is if it's already in the target language\n",
    "\n",
    "# Example usage\n",
    "print(processed_query(\"me tv dekh rahi hu\"))\n"
   ]
  },
  {
   "cell_type": "code",
   "execution_count": 66,
   "metadata": {},
   "outputs": [
    {
     "name": "stdout",
     "output_type": "stream",
     "text": [
      "Requirement already satisfied: langchain in c:\\users\\this pc\\anaconda3\\envs\\aidetector\\lib\\site-packages (0.2.17)\n",
      "Requirement already satisfied: transformers in c:\\users\\this pc\\anaconda3\\envs\\aidetector\\lib\\site-packages (4.46.3)\n",
      "Requirement already satisfied: langdetect in c:\\users\\this pc\\anaconda3\\envs\\aidetector\\lib\\site-packages (1.0.9)\n",
      "Requirement already satisfied: googletrans in c:\\users\\this pc\\anaconda3\\envs\\aidetector\\lib\\site-packages (4.0.2)\n",
      "Requirement already satisfied: PyYAML>=5.3 in c:\\users\\this pc\\anaconda3\\envs\\aidetector\\lib\\site-packages (from langchain) (6.0.2)\n",
      "Requirement already satisfied: SQLAlchemy<3,>=1.4 in c:\\users\\this pc\\anaconda3\\envs\\aidetector\\lib\\site-packages (from langchain) (2.0.36)\n",
      "Requirement already satisfied: aiohttp<4.0.0,>=3.8.3 in c:\\users\\this pc\\anaconda3\\envs\\aidetector\\lib\\site-packages (from langchain) (3.10.11)\n",
      "Requirement already satisfied: async-timeout<5.0.0,>=4.0.0 in c:\\users\\this pc\\anaconda3\\envs\\aidetector\\lib\\site-packages (from langchain) (4.0.3)\n",
      "Requirement already satisfied: langchain-core<0.3.0,>=0.2.43 in c:\\users\\this pc\\anaconda3\\envs\\aidetector\\lib\\site-packages (from langchain) (0.2.43)\n",
      "Requirement already satisfied: langchain-text-splitters<0.3.0,>=0.2.0 in c:\\users\\this pc\\anaconda3\\envs\\aidetector\\lib\\site-packages (from langchain) (0.2.4)\n",
      "Requirement already satisfied: langsmith<0.2.0,>=0.1.17 in c:\\users\\this pc\\anaconda3\\envs\\aidetector\\lib\\site-packages (from langchain) (0.1.147)\n",
      "Requirement already satisfied: numpy<2,>=1 in c:\\users\\this pc\\anaconda3\\envs\\aidetector\\lib\\site-packages (from langchain) (1.24.4)\n",
      "Requirement already satisfied: pydantic<3,>=1 in c:\\users\\this pc\\anaconda3\\envs\\aidetector\\lib\\site-packages (from langchain) (2.10.4)\n",
      "Requirement already satisfied: requests<3,>=2 in c:\\users\\this pc\\anaconda3\\envs\\aidetector\\lib\\site-packages (from langchain) (2.32.3)\n",
      "Requirement already satisfied: tenacity!=8.4.0,<9.0.0,>=8.1.0 in c:\\users\\this pc\\anaconda3\\envs\\aidetector\\lib\\site-packages (from langchain) (8.5.0)\n",
      "Requirement already satisfied: filelock in c:\\users\\this pc\\anaconda3\\envs\\aidetector\\lib\\site-packages (from transformers) (3.16.1)\n",
      "Requirement already satisfied: huggingface-hub<1.0,>=0.23.2 in c:\\users\\this pc\\anaconda3\\envs\\aidetector\\lib\\site-packages (from transformers) (0.27.1)\n",
      "Requirement already satisfied: packaging>=20.0 in c:\\users\\this pc\\anaconda3\\envs\\aidetector\\lib\\site-packages (from transformers) (24.1)\n",
      "Requirement already satisfied: regex!=2019.12.17 in c:\\users\\this pc\\anaconda3\\envs\\aidetector\\lib\\site-packages (from transformers) (2024.11.6)\n",
      "Requirement already satisfied: tokenizers<0.21,>=0.20 in c:\\users\\this pc\\anaconda3\\envs\\aidetector\\lib\\site-packages (from transformers) (0.20.3)\n",
      "Requirement already satisfied: safetensors>=0.4.1 in c:\\users\\this pc\\anaconda3\\envs\\aidetector\\lib\\site-packages (from transformers) (0.5.0)\n",
      "Requirement already satisfied: tqdm>=4.27 in c:\\users\\this pc\\anaconda3\\envs\\aidetector\\lib\\site-packages (from transformers) (4.67.1)\n",
      "Requirement already satisfied: six in c:\\users\\this pc\\anaconda3\\envs\\aidetector\\lib\\site-packages (from langdetect) (1.16.0)\n",
      "Requirement already satisfied: httpx>=0.27.2 in c:\\users\\this pc\\anaconda3\\envs\\aidetector\\lib\\site-packages (from httpx[http2]>=0.27.2->googletrans) (0.28.1)\n",
      "Requirement already satisfied: aiohappyeyeballs>=2.3.0 in c:\\users\\this pc\\anaconda3\\envs\\aidetector\\lib\\site-packages (from aiohttp<4.0.0,>=3.8.3->langchain) (2.4.4)\n",
      "Requirement already satisfied: aiosignal>=1.1.2 in c:\\users\\this pc\\anaconda3\\envs\\aidetector\\lib\\site-packages (from aiohttp<4.0.0,>=3.8.3->langchain) (1.3.1)\n",
      "Requirement already satisfied: attrs>=17.3.0 in c:\\users\\this pc\\anaconda3\\envs\\aidetector\\lib\\site-packages (from aiohttp<4.0.0,>=3.8.3->langchain) (24.3.0)\n",
      "Requirement already satisfied: frozenlist>=1.1.1 in c:\\users\\this pc\\anaconda3\\envs\\aidetector\\lib\\site-packages (from aiohttp<4.0.0,>=3.8.3->langchain) (1.5.0)\n",
      "Requirement already satisfied: multidict<7.0,>=4.5 in c:\\users\\this pc\\anaconda3\\envs\\aidetector\\lib\\site-packages (from aiohttp<4.0.0,>=3.8.3->langchain) (6.1.0)\n",
      "Requirement already satisfied: yarl<2.0,>=1.12.0 in c:\\users\\this pc\\anaconda3\\envs\\aidetector\\lib\\site-packages (from aiohttp<4.0.0,>=3.8.3->langchain) (1.15.2)\n",
      "Requirement already satisfied: anyio in c:\\users\\this pc\\anaconda3\\envs\\aidetector\\lib\\site-packages (from httpx>=0.27.2->httpx[http2]>=0.27.2->googletrans) (4.5.2)\n",
      "Requirement already satisfied: certifi in c:\\users\\this pc\\anaconda3\\envs\\aidetector\\lib\\site-packages (from httpx>=0.27.2->httpx[http2]>=0.27.2->googletrans) (2024.12.14)\n",
      "Requirement already satisfied: httpcore==1.* in c:\\users\\this pc\\anaconda3\\envs\\aidetector\\lib\\site-packages (from httpx>=0.27.2->httpx[http2]>=0.27.2->googletrans) (1.0.7)\n",
      "Requirement already satisfied: idna in c:\\users\\this pc\\anaconda3\\envs\\aidetector\\lib\\site-packages (from httpx>=0.27.2->httpx[http2]>=0.27.2->googletrans) (2.10)\n",
      "Requirement already satisfied: h11<0.15,>=0.13 in c:\\users\\this pc\\anaconda3\\envs\\aidetector\\lib\\site-packages (from httpcore==1.*->httpx>=0.27.2->httpx[http2]>=0.27.2->googletrans) (0.14.0)\n",
      "Requirement already satisfied: h2<5,>=3 in c:\\users\\this pc\\anaconda3\\envs\\aidetector\\lib\\site-packages (from httpx[http2]>=0.27.2->googletrans) (3.2.0)\n",
      "Requirement already satisfied: fsspec>=2023.5.0 in c:\\users\\this pc\\anaconda3\\envs\\aidetector\\lib\\site-packages (from huggingface-hub<1.0,>=0.23.2->transformers) (2024.12.0)\n",
      "Requirement already satisfied: typing-extensions>=3.7.4.3 in c:\\users\\this pc\\anaconda3\\envs\\aidetector\\lib\\site-packages (from huggingface-hub<1.0,>=0.23.2->transformers) (4.12.2)\n",
      "Requirement already satisfied: jsonpatch<2.0,>=1.33 in c:\\users\\this pc\\anaconda3\\envs\\aidetector\\lib\\site-packages (from langchain-core<0.3.0,>=0.2.43->langchain) (1.33)\n",
      "Requirement already satisfied: orjson<4.0.0,>=3.9.14 in c:\\users\\this pc\\anaconda3\\envs\\aidetector\\lib\\site-packages (from langsmith<0.2.0,>=0.1.17->langchain) (3.10.13)\n",
      "Requirement already satisfied: requests-toolbelt<2.0.0,>=1.0.0 in c:\\users\\this pc\\anaconda3\\envs\\aidetector\\lib\\site-packages (from langsmith<0.2.0,>=0.1.17->langchain) (1.0.0)\n",
      "Requirement already satisfied: annotated-types>=0.6.0 in c:\\users\\this pc\\anaconda3\\envs\\aidetector\\lib\\site-packages (from pydantic<3,>=1->langchain) (0.7.0)\n",
      "Requirement already satisfied: pydantic-core==2.27.2 in c:\\users\\this pc\\anaconda3\\envs\\aidetector\\lib\\site-packages (from pydantic<3,>=1->langchain) (2.27.2)\n",
      "Requirement already satisfied: charset-normalizer<4,>=2 in c:\\users\\this pc\\anaconda3\\envs\\aidetector\\lib\\site-packages (from requests<3,>=2->langchain) (3.4.1)\n",
      "Requirement already satisfied: urllib3<3,>=1.21.1 in c:\\users\\this pc\\anaconda3\\envs\\aidetector\\lib\\site-packages (from requests<3,>=2->langchain) (2.2.3)\n",
      "Requirement already satisfied: greenlet!=0.4.17 in c:\\users\\this pc\\anaconda3\\envs\\aidetector\\lib\\site-packages (from SQLAlchemy<3,>=1.4->langchain) (3.1.1)\n",
      "Requirement already satisfied: colorama in c:\\users\\this pc\\anaconda3\\envs\\aidetector\\lib\\site-packages (from tqdm>=4.27->transformers) (0.4.6)\n",
      "Requirement already satisfied: hyperframe<6,>=5.2.0 in c:\\users\\this pc\\anaconda3\\envs\\aidetector\\lib\\site-packages (from h2<5,>=3->httpx[http2]>=0.27.2->googletrans) (5.2.0)\n",
      "Requirement already satisfied: hpack<4,>=3.0 in c:\\users\\this pc\\anaconda3\\envs\\aidetector\\lib\\site-packages (from h2<5,>=3->httpx[http2]>=0.27.2->googletrans) (3.0.0)\n",
      "Requirement already satisfied: jsonpointer>=1.9 in c:\\users\\this pc\\anaconda3\\envs\\aidetector\\lib\\site-packages (from jsonpatch<2.0,>=1.33->langchain-core<0.3.0,>=0.2.43->langchain) (3.0.0)\n",
      "Requirement already satisfied: propcache>=0.2.0 in c:\\users\\this pc\\anaconda3\\envs\\aidetector\\lib\\site-packages (from yarl<2.0,>=1.12.0->aiohttp<4.0.0,>=3.8.3->langchain) (0.2.0)\n",
      "Requirement already satisfied: sniffio>=1.1 in c:\\users\\this pc\\anaconda3\\envs\\aidetector\\lib\\site-packages (from anyio->httpx>=0.27.2->httpx[http2]>=0.27.2->googletrans) (1.3.1)\n",
      "Requirement already satisfied: exceptiongroup>=1.0.2 in c:\\users\\this pc\\anaconda3\\envs\\aidetector\\lib\\site-packages (from anyio->httpx>=0.27.2->httpx[http2]>=0.27.2->googletrans) (1.2.2)\n",
      "Requirement already satisfied: langchain_community in c:\\users\\this pc\\anaconda3\\envs\\aidetector\\lib\\site-packages (0.2.19)\n",
      "Requirement already satisfied: PyYAML>=5.3 in c:\\users\\this pc\\anaconda3\\envs\\aidetector\\lib\\site-packages (from langchain_community) (6.0.2)\n",
      "Requirement already satisfied: SQLAlchemy<3,>=1.4 in c:\\users\\this pc\\anaconda3\\envs\\aidetector\\lib\\site-packages (from langchain_community) (2.0.36)\n",
      "Requirement already satisfied: aiohttp<4.0.0,>=3.8.3 in c:\\users\\this pc\\anaconda3\\envs\\aidetector\\lib\\site-packages (from langchain_community) (3.10.11)\n",
      "Requirement already satisfied: dataclasses-json<0.7,>=0.5.7 in c:\\users\\this pc\\anaconda3\\envs\\aidetector\\lib\\site-packages (from langchain_community) (0.6.7)\n",
      "Requirement already satisfied: langchain<0.3.0,>=0.2.17 in c:\\users\\this pc\\anaconda3\\envs\\aidetector\\lib\\site-packages (from langchain_community) (0.2.17)\n",
      "Requirement already satisfied: langchain-core<0.3.0,>=0.2.43 in c:\\users\\this pc\\anaconda3\\envs\\aidetector\\lib\\site-packages (from langchain_community) (0.2.43)\n",
      "Requirement already satisfied: langsmith<0.2.0,>=0.1.112 in c:\\users\\this pc\\anaconda3\\envs\\aidetector\\lib\\site-packages (from langchain_community) (0.1.147)\n",
      "Requirement already satisfied: numpy<2,>=1 in c:\\users\\this pc\\anaconda3\\envs\\aidetector\\lib\\site-packages (from langchain_community) (1.24.4)\n",
      "Requirement already satisfied: requests<3,>=2 in c:\\users\\this pc\\anaconda3\\envs\\aidetector\\lib\\site-packages (from langchain_community) (2.32.3)\n",
      "Requirement already satisfied: tenacity!=8.4.0,<9.0.0,>=8.1.0 in c:\\users\\this pc\\anaconda3\\envs\\aidetector\\lib\\site-packages (from langchain_community) (8.5.0)\n",
      "Requirement already satisfied: aiohappyeyeballs>=2.3.0 in c:\\users\\this pc\\anaconda3\\envs\\aidetector\\lib\\site-packages (from aiohttp<4.0.0,>=3.8.3->langchain_community) (2.4.4)\n",
      "Requirement already satisfied: aiosignal>=1.1.2 in c:\\users\\this pc\\anaconda3\\envs\\aidetector\\lib\\site-packages (from aiohttp<4.0.0,>=3.8.3->langchain_community) (1.3.1)\n",
      "Requirement already satisfied: attrs>=17.3.0 in c:\\users\\this pc\\anaconda3\\envs\\aidetector\\lib\\site-packages (from aiohttp<4.0.0,>=3.8.3->langchain_community) (24.3.0)\n",
      "Requirement already satisfied: frozenlist>=1.1.1 in c:\\users\\this pc\\anaconda3\\envs\\aidetector\\lib\\site-packages (from aiohttp<4.0.0,>=3.8.3->langchain_community) (1.5.0)\n",
      "Requirement already satisfied: multidict<7.0,>=4.5 in c:\\users\\this pc\\anaconda3\\envs\\aidetector\\lib\\site-packages (from aiohttp<4.0.0,>=3.8.3->langchain_community) (6.1.0)\n",
      "Requirement already satisfied: yarl<2.0,>=1.12.0 in c:\\users\\this pc\\anaconda3\\envs\\aidetector\\lib\\site-packages (from aiohttp<4.0.0,>=3.8.3->langchain_community) (1.15.2)\n",
      "Requirement already satisfied: async-timeout<6.0,>=4.0 in c:\\users\\this pc\\anaconda3\\envs\\aidetector\\lib\\site-packages (from aiohttp<4.0.0,>=3.8.3->langchain_community) (4.0.3)\n",
      "Requirement already satisfied: marshmallow<4.0.0,>=3.18.0 in c:\\users\\this pc\\anaconda3\\envs\\aidetector\\lib\\site-packages (from dataclasses-json<0.7,>=0.5.7->langchain_community) (3.22.0)\n",
      "Requirement already satisfied: typing-inspect<1,>=0.4.0 in c:\\users\\this pc\\anaconda3\\envs\\aidetector\\lib\\site-packages (from dataclasses-json<0.7,>=0.5.7->langchain_community) (0.9.0)\n",
      "Requirement already satisfied: langchain-text-splitters<0.3.0,>=0.2.0 in c:\\users\\this pc\\anaconda3\\envs\\aidetector\\lib\\site-packages (from langchain<0.3.0,>=0.2.17->langchain_community) (0.2.4)\n",
      "Requirement already satisfied: pydantic<3,>=1 in c:\\users\\this pc\\anaconda3\\envs\\aidetector\\lib\\site-packages (from langchain<0.3.0,>=0.2.17->langchain_community) (2.10.4)\n",
      "Requirement already satisfied: jsonpatch<2.0,>=1.33 in c:\\users\\this pc\\anaconda3\\envs\\aidetector\\lib\\site-packages (from langchain-core<0.3.0,>=0.2.43->langchain_community) (1.33)\n",
      "Requirement already satisfied: packaging<25,>=23.2 in c:\\users\\this pc\\anaconda3\\envs\\aidetector\\lib\\site-packages (from langchain-core<0.3.0,>=0.2.43->langchain_community) (24.1)\n",
      "Requirement already satisfied: typing-extensions>=4.7 in c:\\users\\this pc\\anaconda3\\envs\\aidetector\\lib\\site-packages (from langchain-core<0.3.0,>=0.2.43->langchain_community) (4.12.2)\n",
      "Requirement already satisfied: httpx<1,>=0.23.0 in c:\\users\\this pc\\anaconda3\\envs\\aidetector\\lib\\site-packages (from langsmith<0.2.0,>=0.1.112->langchain_community) (0.28.1)\n",
      "Requirement already satisfied: orjson<4.0.0,>=3.9.14 in c:\\users\\this pc\\anaconda3\\envs\\aidetector\\lib\\site-packages (from langsmith<0.2.0,>=0.1.112->langchain_community) (3.10.13)\n",
      "Requirement already satisfied: requests-toolbelt<2.0.0,>=1.0.0 in c:\\users\\this pc\\anaconda3\\envs\\aidetector\\lib\\site-packages (from langsmith<0.2.0,>=0.1.112->langchain_community) (1.0.0)\n",
      "Requirement already satisfied: charset-normalizer<4,>=2 in c:\\users\\this pc\\anaconda3\\envs\\aidetector\\lib\\site-packages (from requests<3,>=2->langchain_community) (3.4.1)\n",
      "Requirement already satisfied: idna<4,>=2.5 in c:\\users\\this pc\\anaconda3\\envs\\aidetector\\lib\\site-packages (from requests<3,>=2->langchain_community) (2.10)\n",
      "Requirement already satisfied: urllib3<3,>=1.21.1 in c:\\users\\this pc\\anaconda3\\envs\\aidetector\\lib\\site-packages (from requests<3,>=2->langchain_community) (2.2.3)\n",
      "Requirement already satisfied: certifi>=2017.4.17 in c:\\users\\this pc\\anaconda3\\envs\\aidetector\\lib\\site-packages (from requests<3,>=2->langchain_community) (2024.12.14)\n",
      "Requirement already satisfied: greenlet!=0.4.17 in c:\\users\\this pc\\anaconda3\\envs\\aidetector\\lib\\site-packages (from SQLAlchemy<3,>=1.4->langchain_community) (3.1.1)\n",
      "Requirement already satisfied: anyio in c:\\users\\this pc\\anaconda3\\envs\\aidetector\\lib\\site-packages (from httpx<1,>=0.23.0->langsmith<0.2.0,>=0.1.112->langchain_community) (4.5.2)\n",
      "Requirement already satisfied: httpcore==1.* in c:\\users\\this pc\\anaconda3\\envs\\aidetector\\lib\\site-packages (from httpx<1,>=0.23.0->langsmith<0.2.0,>=0.1.112->langchain_community) (1.0.7)\n",
      "Requirement already satisfied: h11<0.15,>=0.13 in c:\\users\\this pc\\anaconda3\\envs\\aidetector\\lib\\site-packages (from httpcore==1.*->httpx<1,>=0.23.0->langsmith<0.2.0,>=0.1.112->langchain_community) (0.14.0)\n",
      "Requirement already satisfied: jsonpointer>=1.9 in c:\\users\\this pc\\anaconda3\\envs\\aidetector\\lib\\site-packages (from jsonpatch<2.0,>=1.33->langchain-core<0.3.0,>=0.2.43->langchain_community) (3.0.0)\n",
      "Requirement already satisfied: annotated-types>=0.6.0 in c:\\users\\this pc\\anaconda3\\envs\\aidetector\\lib\\site-packages (from pydantic<3,>=1->langchain<0.3.0,>=0.2.17->langchain_community) (0.7.0)\n",
      "Requirement already satisfied: pydantic-core==2.27.2 in c:\\users\\this pc\\anaconda3\\envs\\aidetector\\lib\\site-packages (from pydantic<3,>=1->langchain<0.3.0,>=0.2.17->langchain_community) (2.27.2)\n",
      "Requirement already satisfied: mypy-extensions>=0.3.0 in c:\\users\\this pc\\anaconda3\\envs\\aidetector\\lib\\site-packages (from typing-inspect<1,>=0.4.0->dataclasses-json<0.7,>=0.5.7->langchain_community) (1.0.0)\n",
      "Requirement already satisfied: propcache>=0.2.0 in c:\\users\\this pc\\anaconda3\\envs\\aidetector\\lib\\site-packages (from yarl<2.0,>=1.12.0->aiohttp<4.0.0,>=3.8.3->langchain_community) (0.2.0)\n",
      "Requirement already satisfied: sniffio>=1.1 in c:\\users\\this pc\\anaconda3\\envs\\aidetector\\lib\\site-packages (from anyio->httpx<1,>=0.23.0->langsmith<0.2.0,>=0.1.112->langchain_community) (1.3.1)\n",
      "Requirement already satisfied: exceptiongroup>=1.0.2 in c:\\users\\this pc\\anaconda3\\envs\\aidetector\\lib\\site-packages (from anyio->httpx<1,>=0.23.0->langsmith<0.2.0,>=0.1.112->langchain_community) (1.2.2)\n"
     ]
    }
   ],
   "source": [
    "!pip install langchain transformers langdetect googletrans\n",
    "!pip install langchain_community"
   ]
  },
  {
   "cell_type": "code",
   "execution_count": 67,
   "metadata": {},
   "outputs": [
    {
     "name": "stdout",
     "output_type": "stream",
     "text": [
      "Requirement already satisfied: python-dotenv in c:\\users\\this pc\\anaconda3\\envs\\aidetector\\lib\\site-packages (1.0.1)\n",
      "Note: you may need to restart the kernel to use updated packages.\n"
     ]
    }
   ],
   "source": [
    "pip install python-dotenv"
   ]
  },
  {
   "cell_type": "code",
   "execution_count": 92,
   "metadata": {},
   "outputs": [],
   "source": [
    "import os\n",
    "from dotenv import load_dotenv\n",
    "from langchain import PromptTemplate, LLMChain\n",
    "from langchain.memory import ConversationBufferMemory\n",
    "from langchain.llms import HuggingFaceHub"
   ]
  },
  {
   "cell_type": "code",
   "execution_count": 93,
   "metadata": {},
   "outputs": [],
   "source": [
    "# Load environment variables from .env file\n",
    "load_dotenv()\n",
    "huggingface_api_token = os.getenv(\"HUGGINGFACE_API_KEY\")"
   ]
  },
  {
   "cell_type": "code",
   "execution_count": 112,
   "metadata": {},
   "outputs": [],
   "source": [
    "## intialize the hugging face LLM \n",
    "\n",
    "# Initialize the Hugging Face LLM with API key\n",
    "llm = HuggingFaceHub(\n",
    "    repo_id=\"mistralai/Mistral-7B-Instruct-v0.2\",  # Replace with your preferred model\n",
    "    model_kwargs={\"temperature\": 0.1, \"max_length\": 200},\n",
    "    huggingfacehub_api_token=huggingface_api_token,\n",
    ")\n"
   ]
  },
  {
   "cell_type": "code",
   "execution_count": 113,
   "metadata": {},
   "outputs": [],
   "source": [
    "def truncate_text(text, max_tokens=1400):\n",
    "    # Tokenize the input and truncate to fit within the limit\n",
    "    tokens = text.split()  # Basic tokenization (or use a tokenizer library for precision)\n",
    "    if len(tokens) > max_tokens:\n",
    "        return \" \".join(tokens[:max_tokens])\n",
    "    return text\n"
   ]
  },
  {
   "cell_type": "code",
   "execution_count": 114,
   "metadata": {},
   "outputs": [],
   "source": [
    "# Conversation memory to store context\n",
    "memory = ConversationBufferMemory(memory_key=\"chat_history\")"
   ]
  },
  {
   "cell_type": "code",
   "execution_count": 115,
   "metadata": {},
   "outputs": [],
   "source": [
    "# Rephrasing Prompt\n",
    "rephrase_prompt = PromptTemplate(\n",
    "    input_variables=[\"text\"],\n",
    "    template=\"Rephrase the following text for clarity: {text}\",\n",
    ")\n",
    "\n",
    "# Final Answer Prompt\n",
    "answer_prompt = PromptTemplate(\n",
    "    input_variables=[\"text\", \"chat_history\"],\n",
    "    template=(\n",
    "        \"You are an intelligent assistant. Use the conversation history below:\\n\"\n",
    "        \"{chat_history}\\n\"\n",
    "        \"Now, respond to this query in detail: {text}\"\n",
    "    ),\n",
    ")\n"
   ]
  },
  {
   "cell_type": "code",
   "execution_count": 116,
   "metadata": {},
   "outputs": [],
   "source": [
    "def langchain_pipeline(input_text):\n",
    "    # Step 1: Detect and Translate\n",
    "    translated_text = detect_and_translate(input_text)\n",
    "    print(\"Translated Text:\", translated_text)  # Debugging\n",
    "\n",
    "    # Truncate if necessary\n",
    "    truncated_text = truncate_text(translated_text)\n",
    "    print(\"Truncated Text:\", truncated_text)  # Debugging\n",
    "\n",
    "    # Step 2: Rephrase using LangChain\n",
    "    rephrase_chain = LLMChain(llm=llm, prompt=rephrase_prompt)\n",
    "    rephrased_text = rephrase_chain.run(truncated_text)\n",
    "    print(\"Rephrased Text:\", rephrased_text)  # Debugging\n",
    "\n",
    "    # Step 3: Generate Final Answer with Memory\n",
    "    answer_chain = LLMChain(llm=llm, prompt=answer_prompt, memory=memory)\n",
    "    final_answer = answer_chain.run({\"text\": rephrased_text})\n",
    "    print(\"Final Answer:\", final_answer)  # Debugging\n",
    "\n",
    "    return final_answer\n"
   ]
  },
  {
   "cell_type": "code",
   "execution_count": 117,
   "metadata": {},
   "outputs": [
    {
     "name": "stdout",
     "output_type": "stream",
     "text": [
      "Query 1:\n",
      "Translated Text: Can you write a short poem about nature?\n",
      "Truncated Text: Can you write a short poem about nature?\n",
      "Rephrased Text: Rephrase the following text for clarity: Can you write a short poem about nature? I'd appreciate it if you could include the imagery of a sunset, a lake, and a bird in your poem. Here's a suggestion to get you started: \"Nature's grand finale, as day turns to night, A sunset's fiery blaze ignites the twilight, A tranquil lake reflects the scene so bright, A bird takes flight, as day turns into night.\"\n",
      "\n",
      "Consider the following options:\n",
      "\n",
      "Option\n",
      "Final Answer: You are an intelligent assistant. Use the conversation history below:\n",
      "\n",
      "Now, respond to this query in detail: Rephrase the following text for clarity: Can you write a short poem about nature? I'd appreciate it if you could include the imagery of a sunset, a lake, and a bird in your poem. Here's a suggestion to get you started: \"Nature's grand finale, as day turns to night, A sunset's fiery blaze ignites the twilight, A tranquil lake reflects the scene so bright, A bird takes flight, as day turns into night.\"\n",
      "\n",
      "Consider the following options:\n",
      "\n",
      "Option 1:\n",
      "Create a poem that captures the essence of nature's beauty, with the backdrop of a breathtaking sunset, a serene lake, and a bird in flight.\n",
      "\n",
      "Option 2:\n",
      "Compose a short verse that paints a vivid picture of nature's splendor, featuring a stunning sunset, a peaceful lake, and a bird soaring in the sky.\n",
      "\n",
      "Option 3:\n",
      "Write a poem that celebrates the w\n",
      "\n",
      "Query 2:\n",
      "Translated Text: What inspired you to write it?\n",
      "Truncated Text: What inspired you to write it?\n",
      "Rephrased Text: Rephrase the following text for clarity: What inspired you to write it? I'd be interested to know the motivation behind your work.\n",
      "\n",
      "A possible rephrased version could be: Could you please share what led you to create this piece? I'm curious to understand the source of your inspiration for writing it.\n",
      "Final Answer: You are an intelligent assistant. Use the conversation history below:\n",
      "Human: Rephrase the following text for clarity: Can you write a short poem about nature? I'd appreciate it if you could include the imagery of a sunset, a lake, and a bird in your poem. Here's a suggestion to get you started: \"Nature's grand finale, as day turns to night, A sunset's fiery blaze ignites the twilight, A tranquil lake reflects the scene so bright, A bird takes flight, as day turns into night.\"\n",
      "\n",
      "Consider the following options:\n",
      "\n",
      "Option\n",
      "AI: You are an intelligent assistant. Use the conversation history below:\n",
      "\n",
      "Now, respond to this query in detail: Rephrase the following text for clarity: Can you write a short poem about nature? I'd appreciate it if you could include the imagery of a sunset, a lake, and a bird in your poem. Here's a suggestion to get you started: \"Nature's grand finale, as day turns to night, A sunset's fiery blaze ignites the twilight, A tranquil lake reflects the scene so bright, A bird takes flight, as day turns into night.\"\n",
      "\n",
      "Consider the following options:\n",
      "\n",
      "Option 1:\n",
      "Create a poem that captures the essence of nature's beauty, with the backdrop of a breathtaking sunset, a serene lake, and a bird in flight.\n",
      "\n",
      "Option 2:\n",
      "Compose a short verse that paints a vivid picture of nature's splendor, featuring a stunning sunset, a peaceful lake, and a bird soaring in the sky.\n",
      "\n",
      "Option 3:\n",
      "Write a poem that celebrates the w\n",
      "Now, respond to this query in detail: Rephrase the following text for clarity: What inspired you to write it? I'd be interested to know the motivation behind your work.\n",
      "\n",
      "A possible rephrased version could be: Could you please share what led you to create this piece? I'm curious to understand the source of your inspiration for writing it.\n"
     ]
    }
   ],
   "source": [
    "input_text_1 = \"Can you write a short poem about nature?\"\n",
    "input_text_2 = \"What inspired you to write it?\"\n",
    "\n",
    "# First query\n",
    "print(\"Query 1:\")\n",
    "result_1 = langchain_pipeline(input_text_1)\n",
    "\n",
    "# Second query (context maintained)\n",
    "print(\"\\nQuery 2:\")\n",
    "result_2 = langchain_pipeline(input_text_2)\n"
   ]
  },
  {
   "cell_type": "code",
   "execution_count": null,
   "metadata": {},
   "outputs": [],
   "source": []
  }
 ],
 "metadata": {
  "kernelspec": {
   "display_name": "aidetector",
   "language": "python",
   "name": "python3"
  },
  "language_info": {
   "codemirror_mode": {
    "name": "ipython",
    "version": 3
   },
   "file_extension": ".py",
   "mimetype": "text/x-python",
   "name": "python",
   "nbconvert_exporter": "python",
   "pygments_lexer": "ipython3",
   "version": "3.8.20"
  }
 },
 "nbformat": 4,
 "nbformat_minor": 2
}
